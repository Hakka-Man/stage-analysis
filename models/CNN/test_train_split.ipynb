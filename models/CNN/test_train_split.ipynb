{
 "cells": [
  {
   "cell_type": "code",
   "execution_count": 2,
   "metadata": {},
   "outputs": [],
   "source": [
    "import os\n",
    "import shutil\n",
    "from sklearn.model_selection import train_test_split\n",
    "\n",
    "# Paths\n",
    "dataset_path = '../../stock_image'\n",
    "train_path = '../../train_images/train'\n",
    "val_path = '../../train_images/validation'\n",
    "\n",
    "# Ensure the train and validation directories exist\n",
    "os.makedirs(train_path, exist_ok=True)\n",
    "os.makedirs(val_path, exist_ok=True)\n",
    "\n",
    "# Function to split and copy files\n",
    "def split_and_copy_files(class_path, class_name):\n",
    "    files = [f for f in os.listdir(class_path) if os.path.isfile(os.path.join(class_path, f))]\n",
    "    \n",
    "    # Split files\n",
    "    train_files, val_files = train_test_split(files, train_size = 0.9,test_size=0.1) # Adjust test_size as needed\n",
    "    \n",
    "    # Directories for this class\n",
    "    train_dir = os.path.join(train_path, class_name)\n",
    "    val_dir = os.path.join(val_path, class_name)\n",
    "    os.makedirs(train_dir, exist_ok=True)\n",
    "    os.makedirs(val_dir, exist_ok=True)\n",
    "    \n",
    "    # Copy files\n",
    "    for file in train_files:\n",
    "        shutil.copy(os.path.join(class_path, file), train_dir)\n",
    "    for file in val_files:\n",
    "        shutil.copy(os.path.join(class_path, file), val_dir)\n",
    "\n",
    "# Iterate over each class directory and split files\n",
    "for class_name in os.listdir(dataset_path):\n",
    "    class_path = os.path.join(dataset_path, class_name)\n",
    "    if os.path.isdir(class_path):\n",
    "        split_and_copy_files(class_path, class_name)"
   ]
  },
  {
   "cell_type": "code",
   "execution_count": null,
   "metadata": {},
   "outputs": [],
   "source": []
  }
 ],
 "metadata": {
  "kernelspec": {
   "display_name": "stage",
   "language": "python",
   "name": "python3"
  },
  "language_info": {
   "codemirror_mode": {
    "name": "ipython",
    "version": 3
   },
   "file_extension": ".py",
   "mimetype": "text/x-python",
   "name": "python",
   "nbconvert_exporter": "python",
   "pygments_lexer": "ipython3",
   "version": "3.9.18"
  }
 },
 "nbformat": 4,
 "nbformat_minor": 2
}
