{
 "cells": [
  {
   "cell_type": "code",
   "execution_count": 79,
   "metadata": {},
   "outputs": [],
   "source": [
    "import requests\n",
    "import pandas as pd\n",
    "import io\n",
    "import os\n",
    "from tabulate import tabulate\n",
    "from dotenv import load_dotenv\n",
    "from IPython.display import HTML"
   ]
  },
  {
   "cell_type": "code",
   "execution_count": 80,
   "metadata": {},
   "outputs": [],
   "source": [
    "def get_stock_list():\n",
    "    api_key = os.environ.get('API_KEY')\n",
    "    if api_key is None:\n",
    "        print(\"The 'API_KEY' environment variable was not found.\")\n",
    "\n",
    "    url = 'https://www.alphavantage.co/query?function=LISTING_STATUS&apikey=' + str(api_key)\n",
    "    r = requests.get(url)\n",
    "    data = pd.read_csv(io.StringIO(r.content.decode('utf-8')))\n",
    "    return list(data['symbol'])\n",
    "\n",
    "\n",
    "def get_stock_df(ticker):\n",
    "    api_key = os.environ.get('API_KEY')\n",
    "    if api_key is None:\n",
    "        print(\"The 'API_KEY' environment variable was not found.\")\n",
    "\n",
    "    url = 'https://www.alphavantage.co/query?function=TIME_SERIES_DAILY&symbol=' + ticker + '&apikey=' + str(api_key)\n",
    "    r = requests.get(url)\n",
    "    data = r.json()\n",
    "    df = pd.DataFrame.from_dict(data, orient='columns')\n",
    "    df = df.drop(\"Meta Data\", axis = 1)\n",
    "    df = df.drop(index=[\"1. Information\",\"2. Symbol\",\"3. Last Refreshed\",\"4. Output Size\",\"5. Time Zone\"])\n",
    "    HTML(tabulate(df, headers='keys', tablefmt='html'))\n",
    "    df_normalized = pd.json_normalize(df['Time Series (Daily)'])\n",
    "    df = df.reset_index()\n",
    "    df_final = df.join(df_normalized)\n",
    "    df_final.drop('Time Series (Daily)', axis = 1, inplace = True)\n",
    "    df_final.index = df['index']\n",
    "    df_final.drop('index', axis = 1, inplace = True)\n",
    "    return df_final"
   ]
  },
  {
   "cell_type": "code",
   "execution_count": 85,
   "metadata": {},
   "outputs": [],
   "source": [
    "####　EXAMPLE \n",
    "\n",
    "stock_list = get_stock_list()\n",
    "\n",
    "\n",
    "folder_path = '../stock_data'\n",
    "if not os.path.exists(folder_path):\n",
    "    os.makedirs(folder_path)\n",
    "\n",
    "for stock in stock_list[:5]:\n",
    "    df = get_stock_df(stock)\n",
    "    df.to_pickle(\"../stock_data/\" + stock + '.pkl')"
   ]
  },
  {
   "cell_type": "code",
   "execution_count": null,
   "metadata": {},
   "outputs": [],
   "source": []
  }
 ],
 "metadata": {
  "kernelspec": {
   "display_name": "stage",
   "language": "python",
   "name": "python3"
  },
  "language_info": {
   "codemirror_mode": {
    "name": "ipython",
    "version": 3
   },
   "file_extension": ".py",
   "mimetype": "text/x-python",
   "name": "python",
   "nbconvert_exporter": "python",
   "pygments_lexer": "ipython3",
   "version": "3.9.18"
  }
 },
 "nbformat": 4,
 "nbformat_minor": 2
}
