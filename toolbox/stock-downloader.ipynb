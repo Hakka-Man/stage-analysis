{
 "cells": [
  {
   "cell_type": "code",
   "execution_count": 79,
   "metadata": {},
   "outputs": [],
   "source": [
    "import requests\n",
    "import pandas as pd\n",
    "import io\n",
    "import os\n",
    "from tabulate import tabulate\n",
    "from dotenv import load_dotenv\n",
    "from IPython.display import HTML"
   ]
  },
  {
   "cell_type": "code",
   "execution_count": 80,
   "metadata": {},
   "outputs": [],
   "source": [
    "def get_stock_list():\n",
    "    url = 'https://www.alphavantage.co/query?function=LISTING_STATUS&apikey=' + str(os.environ.get('API_KEY'))\n",
    "    r = requests.get(url)\n",
    "    data = pd.read_csv(io.StringIO(r.content.decode('utf-8')))\n",
    "    return list(data['symbol'])\n",
    "\n",
    "\n",
    "def get_stock_df(ticker):\n",
    "    url = 'https://www.alphavantage.co/query?function=TIME_SERIES_DAILY&symbol=' + ticker + '&apikey=' + str(os.environ.get('API_KEY'))\n",
    "    r = requests.get(url)\n",
    "    data = r.json()\n",
    "\n",
    "    df = pd.DataFrame.from_dict(data, orient='columns')\n",
    "\n",
    "    df = df.drop(\"Meta Data\", axis = 1)\n",
    "    df = df.drop(index=[\"1. Information\",\"2. Symbol\",\"3. Last Refreshed\",\"4. Output Size\",\"5. Time Zone\"])\n",
    "\n",
    "    HTML(tabulate(df, headers='keys', tablefmt='html'))\n",
    "\n",
    "\n",
    "    df_normalized = pd.json_normalize(df['Time Series (Daily)'])\n",
    "    df = df.reset_index()\n",
    "    df_final = df.join(df_normalized)\n",
    "    df_final.drop('Time Series (Daily)', axis = 1, inplace = True)\n",
    "    df_final.index = df['index']\n",
    "    df_final.drop('index', axis = 1, inplace = True)\n",
    "    return df_final"
   ]
  },
  {
   "cell_type": "code",
   "execution_count": 85,
   "metadata": {},
   "outputs": [],
   "source": [
    "####　EXAMPLE \n",
    "\n",
    "stock_list = get_stock_list()\n",
    "\n",
    "for stock in stock_list[:5]:\n",
    "    df = get_stock_df(stock)\n",
    "    df.to_pickle(\"../stock_data/\" + stock + '.pkl')"
   ]
  },
  {
   "cell_type": "code",
   "execution_count": null,
   "metadata": {},
   "outputs": [],
   "source": []
  }
 ],
 "metadata": {
  "kernelspec": {
   "display_name": "stage",
   "language": "python",
   "name": "python3"
  },
  "language_info": {
   "codemirror_mode": {
    "name": "ipython",
    "version": 3
   },
   "file_extension": ".py",
   "mimetype": "text/x-python",
   "name": "python",
   "nbconvert_exporter": "python",
   "pygments_lexer": "ipython3",
   "version": "3.9.18"
  }
 },
 "nbformat": 4,
 "nbformat_minor": 2
}
