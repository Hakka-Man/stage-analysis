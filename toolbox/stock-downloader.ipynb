{
 "cells": [
  {
   "cell_type": "code",
   "execution_count": 74,
   "metadata": {},
   "outputs": [],
   "source": [
    "import requests\n",
    "import pandas as pd\n",
    "import io\n",
    "import os\n",
    "import numpy as np\n",
    "from tabulate import tabulate\n",
    "from dotenv import load_dotenv\n",
    "from IPython.display import HTML\n",
    "from yahoo_fin.stock_info import get_data\n",
    "\n",
    "cwd = os.getcwd()\n",
    "path = os.path.dirname(cwd)\n",
    "folder_path = os.path.join(path, 'stock_data')\n"
   ]
  },
  {
   "cell_type": "code",
   "execution_count": 75,
   "metadata": {},
   "outputs": [],
   "source": [
    "def to_closest_friday(date):\n",
    "    day_of_week = date.dayofweek\n",
    "    if day_of_week == 4: \n",
    "        return date\n",
    "    elif day_of_week < 4: \n",
    "        return date + pd.Timedelta(days=(4 - day_of_week))\n",
    "    else: \n",
    "        return date - pd.Timedelta(days=(day_of_week - 4))\n",
    "\n",
    "\n",
    "def get_ticker_list():\n",
    "    folder_path = os.path.join(path, 'preprocessing_data')\n",
    "    txt_files = [file for file in os.listdir(folder_path) if file.endswith('.txt')]\n",
    "    file_contents = {}\n",
    "    for file in txt_files:\n",
    "        with open(os.path.join(folder_path, file), 'r', encoding='utf-8') as f:\n",
    "            file_contents[file] = f.read()\n",
    "    final_df = []\n",
    "    for filename, content in file_contents.items():\n",
    "        final_df.append(pd.read_html(content)[0])\n",
    "    return final_df\n",
    "\n",
    "def calculate_wma(data):\n",
    "    weights = np.arange(1, 31)[::-1]\n",
    "    return np.dot(data, weights) / weights.sum()\n",
    "\n",
    "def get_stock_df(ticker):\n",
    "    df = get_data(ticker,index_as_date = True, interval=\"1wk\")\n",
    "    df.index = df.index.map(to_closest_friday)\n",
    "    return df\n",
    "\n",
    "def calculate_future_average(row, df):\n",
    "    three_months_later = row.name + pd.DateOffset(weeks=12)\n",
    "    six_months_later = row.name + pd.DateOffset(weeks=24)\n",
    "    future_df = df[(df.index > three_months_later) & (df.index <= six_months_later)]\n",
    "    if df.index[-1] > six_months_later and not future_df.empty:\n",
    "        return future_df['close'].mean()\n",
    "    else:\n",
    "        return None\n",
    "    \n",
    "def label_stocks(row):\n",
    "    if row['three_to_six'] >= row['close'] * 1.1:\n",
    "        return 2\n",
    "    elif row['three_to_six'] <= row['close'] * 0.9:\n",
    "        return 4\n",
    "    else:\n",
    "        return 1\n"
   ]
  },
  {
   "cell_type": "code",
   "execution_count": 76,
   "metadata": {},
   "outputs": [
    {
     "name": "stderr",
     "output_type": "stream",
     "text": [
      "/tmp/ipykernel_9255/3479759253.py:20: FutureWarning: Passing literal html to 'read_html' is deprecated and will be removed in a future version. To read from a literal string, wrap it in a 'StringIO' object.\n",
      "  final_df.append(pd.read_html(content)[0])\n",
      "/tmp/ipykernel_9255/3479759253.py:20: FutureWarning: Passing literal html to 'read_html' is deprecated and will be removed in a future version. To read from a literal string, wrap it in a 'StringIO' object.\n",
      "  final_df.append(pd.read_html(content)[0])\n",
      "/tmp/ipykernel_9255/3479759253.py:20: FutureWarning: Passing literal html to 'read_html' is deprecated and will be removed in a future version. To read from a literal string, wrap it in a 'StringIO' object.\n",
      "  final_df.append(pd.read_html(content)[0])\n",
      "/tmp/ipykernel_9255/3479759253.py:20: FutureWarning: Passing literal html to 'read_html' is deprecated and will be removed in a future version. To read from a literal string, wrap it in a 'StringIO' object.\n",
      "  final_df.append(pd.read_html(content)[0])\n",
      "/tmp/ipykernel_9255/3479759253.py:20: FutureWarning: Passing literal html to 'read_html' is deprecated and will be removed in a future version. To read from a literal string, wrap it in a 'StringIO' object.\n",
      "  final_df.append(pd.read_html(content)[0])\n",
      "/tmp/ipykernel_9255/3479759253.py:20: FutureWarning: Passing literal html to 'read_html' is deprecated and will be removed in a future version. To read from a literal string, wrap it in a 'StringIO' object.\n",
      "  final_df.append(pd.read_html(content)[0])\n"
     ]
    }
   ],
   "source": [
    "dfs = get_ticker_list()\n",
    "tickers = []\n",
    "for df in dfs:\n",
    "    tickers += list(df['Symbol'])\n",
    "len(tickers)\n",
    "# print(tickers)\n",
    "ticker_list = [item for item in tickers if not isinstance(item, float)]\n",
    "ticker_list.sort()"
   ]
  },
  {
   "cell_type": "code",
   "execution_count": 77,
   "metadata": {},
   "outputs": [
    {
     "name": "stdout",
     "output_type": "stream",
     "text": [
      "AGM.Anot found\n",
      "AKO.Anot found\n",
      "AKO.Bnot found\n",
      "BF.Anot found\n",
      "BF.Bnot found\n",
      "BH.Anot found\n",
      "BIO.Bnot found\n",
      "BNRE.Anot found\n",
      "BRK.Anot found\n",
      "BRK.Bnot found\n",
      "CRD.Anot found\n",
      "CRD.Bnot found\n",
      "CWEN.Anot found\n",
      "DYCQnot found\n",
      "GEF.Bnot found\n",
      "GTN.Anot found\n",
      "HEI.Anot found\n",
      "HVT.Anot found\n",
      "JVSAnot found\n",
      "LEGTnot found\n",
      "LEN.Bnot found\n",
      "LGF.Anot found\n",
      "LGF.Bnot found\n",
      "MKC.Vnot found\n",
      "MOG.Anot found\n",
      "MOG.Bnot found\n",
      "PBR.Anot found\n",
      "TAP.Anot found\n",
      "UHAL.Bnot found\n",
      "WSO.Bnot found\n"
     ]
    }
   ],
   "source": [
    "####　EXAMPLE \n",
    "\n",
    "if not os.path.exists(folder_path):\n",
    "    os.makedirs(folder_path)\n",
    "\n",
    "for stock in ticker_list:\n",
    "    try:\n",
    "        df = get_stock_df(stock)\n",
    "        df = df.drop([\"adjclose\",\"ticker\"], axis = 1)\n",
    "        df['wma30'] = df['close'].rolling(window=30).apply(calculate_wma, raw=True)\n",
    "        df['fyh'] = df['high'].rolling(window=5*52, min_periods=1).max()\n",
    "        df = df.dropna()\n",
    "        df['three_to_six'] = df.apply(calculate_future_average, df=df, axis=1)\n",
    "        df = df.dropna()\n",
    "        df['stage'] = df.apply(label_stocks, axis=1)\n",
    "        for i in range(1, len(df)):\n",
    "            if (df.iloc[i-1]['stage'] == 2 or df.iloc[i-1]['stage'] == 3) and df.iloc[i]['stage'] != 4:\n",
    "                df.iloc[i,8] = 3\n",
    "        df.to_pickle(folder_path + '/' + stock + '.pkl')\n",
    "    except:\n",
    "        print(stock + \" not found\")"
   ]
  },
  {
   "cell_type": "code",
   "execution_count": null,
   "metadata": {},
   "outputs": [],
   "source": [
    "df = pd.read_pickle(folder_path + '/A.pkl')"
   ]
  },
  {
   "cell_type": "code",
   "execution_count": null,
   "metadata": {},
   "outputs": [],
   "source": [
    "display(df)"
   ]
  },
  {
   "cell_type": "code",
   "execution_count": null,
   "metadata": {},
   "outputs": [],
   "source": []
  }
 ],
 "metadata": {
  "kernelspec": {
   "display_name": "stage",
   "language": "python",
   "name": "python3"
  },
  "language_info": {
   "codemirror_mode": {
    "name": "ipython",
    "version": 3
   },
   "file_extension": ".py",
   "mimetype": "text/x-python",
   "name": "python",
   "nbconvert_exporter": "python",
   "pygments_lexer": "ipython3",
   "version": "3.9.18"
  }
 },
 "nbformat": 4,
 "nbformat_minor": 2
}
