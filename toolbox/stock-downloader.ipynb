{
 "cells": [
  {
   "cell_type": "code",
   "execution_count": null,
   "metadata": {},
   "outputs": [],
   "source": [
    "import requests\n",
    "import pandas as pd\n",
    "import io\n",
    "import os\n",
    "import numpy as np\n",
    "from tabulate import tabulate\n",
    "from dotenv import load_dotenv\n",
    "from IPython.display import HTML\n",
    "from yahoo_fin.stock_info import get_data, get_stats, tickers_nasdaq, tickers_other\n",
    "\n",
    "cwd = os.getcwd()\n",
    "path = os.path.dirname(cwd)\n",
    "folder_path = os.path.join(path, 'stock_data')\n"
   ]
  },
  {
   "cell_type": "code",
   "execution_count": null,
   "metadata": {},
   "outputs": [],
   "source": [
    "def to_closest_friday(date):\n",
    "    day_of_week = date.dayofweek\n",
    "    if day_of_week == 4: \n",
    "        return date\n",
    "    elif day_of_week < 4: \n",
    "        return date + pd.Timedelta(days=(4 - day_of_week))\n",
    "    else: \n",
    "        return date - pd.Timedelta(days=(day_of_week - 4))\n",
    "\n",
    "\n",
    "def get_ticker_list():\n",
    "    folder_path = os.path.join(path, 'preprocessing_data')\n",
    "    txt_files = [file for file in os.listdir(folder_path) if file.endswith('.txt')]\n",
    "    file_contents = {}\n",
    "    for file in txt_files:\n",
    "        with open(os.path.join(folder_path, file), 'r', encoding='utf-8') as f:\n",
    "            file_contents[file] = f.read()\n",
    "    final_df = []\n",
    "    for filename, content in file_contents.items():\n",
    "        final_df.append(pd.read_html(content)[0])\n",
    "    return final_df\n",
    "\n",
    "def calculate_wma(data):\n",
    "    weights = np.arange(1, 31)[::-1]\n",
    "    return np.dot(data, weights) / weights.sum()\n",
    "\n",
    "def get_stock_df(ticker):\n",
    "    df = get_data(ticker,index_as_date = True, interval=\"1wk\")\n",
    "    df.index = df.index.map(to_closest_friday)\n",
    "    return df"
   ]
  },
  {
   "cell_type": "code",
   "execution_count": null,
   "metadata": {},
   "outputs": [],
   "source": [
    "dfs = get_ticker_list()\n",
    "tickers = []\n",
    "for df in dfs:\n",
    "    tickers += list(df['Symbol'])\n",
    "len(tickers)\n",
    "# print(tickers)\n",
    "ticker_list = [item for item in tickers if not isinstance(item, float)]\n",
    "ticker_list.sort()"
   ]
  },
  {
   "cell_type": "code",
   "execution_count": null,
   "metadata": {},
   "outputs": [],
   "source": [
    "####　EXAMPLE \n",
    "\n",
    "if not os.path.exists(folder_path):\n",
    "    os.makedirs(folder_path)\n",
    "\n",
    "for stock in ticker_list[:2]:\n",
    "    df = get_stock_df(stock)\n",
    "    df = df.drop([\"adjclose\",\"ticker\"], axis = 1)\n",
    "    df['wma30'] = df['close'].rolling(window=30).apply(calculate_wma, raw=True)\n",
    "    df['fyh'] = df['high'].rolling(window=5*52, min_periods=1).max()\n",
    "    df = df.dropna()\n",
    "    df.to_pickle(folder_path + '/' + stock + '.pkl')"
   ]
  },
  {
   "cell_type": "code",
   "execution_count": null,
   "metadata": {},
   "outputs": [],
   "source": [
    "df = pd.read_pickle(folder_path + '/A.pkl')"
   ]
  },
  {
   "cell_type": "code",
   "execution_count": null,
   "metadata": {},
   "outputs": [],
   "source": [
    "display(df)"
   ]
  },
  {
   "cell_type": "code",
   "execution_count": null,
   "metadata": {},
   "outputs": [],
   "source": []
  }
 ],
 "metadata": {
  "kernelspec": {
   "display_name": "stage",
   "language": "python",
   "name": "python3"
  },
  "language_info": {
   "codemirror_mode": {
    "name": "ipython",
    "version": 3
   },
   "file_extension": ".py",
   "mimetype": "text/x-python",
   "name": "python",
   "nbconvert_exporter": "python",
   "pygments_lexer": "ipython3",
   "version": "3.9.18"
  }
 },
 "nbformat": 4,
 "nbformat_minor": 2
}
