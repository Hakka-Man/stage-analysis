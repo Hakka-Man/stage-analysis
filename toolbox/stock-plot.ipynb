{
 "cells": [
  {
   "cell_type": "code",
   "execution_count": null,
   "metadata": {},
   "outputs": [],
   "source": [
    "import pandas as pd\n",
    "import numpy as np\n",
    "import matplotlib.pyplot as plt"
   ]
  },
  {
   "cell_type": "code",
   "execution_count": null,
   "metadata": {},
   "outputs": [],
   "source": [
    "timestamps = pd.date_range(start='2022-01-01', end='2023-12-31', freq='W')\n",
    "\n",
    "open_price = np.random.randint(10, 100, size=len(timestamps))\n",
    "up_amount = np.random.randint(1, 5, size=len(timestamps))\n",
    "down_amount = np.random.randint(-5, -1, size=len(timestamps))\n",
    "data = {\n",
    "    \"open\": open_price,\n",
    "    \"high\": open_price + up_amount,\n",
    "    \"low\": open_price + down_amount,\n",
    "    \"close\": open_price + up_amount + down_amount,\n",
    "    \"volume\": np.random.randint(1000, 10000, size=len(timestamps)),\n",
    "    \"wma30\": np.maximum(open_price - 10, 1),\n",
    "    \"fyh\": np.random.randint(10, 100, size=len(timestamps)),\n",
    "}\n",
    "\n",
    "df = pd.DataFrame(data, index=timestamps)"
   ]
  },
  {
   "cell_type": "code",
   "execution_count": null,
   "metadata": {},
   "outputs": [],
   "source": [
    "bull_color = \"red\"\n",
    "bear_color = \"green\"\n",
    "wma30_color = \"blue\"\n",
    "fyh_color = \"orange\"\n",
    "\n",
    "box_width = 5\n",
    "stick_width = 1\n",
    "\n",
    "up = df[df.close >= df.open]\n",
    "down = df[df.close < df.open]"
   ]
  },
  {
   "cell_type": "code",
   "execution_count": null,
   "metadata": {},
   "outputs": [],
   "source": [
    "plt.figure(figsize=(8, 6))\n",
    "\n",
    "plt.bar(up.index, up.close-up.open, box_width, bottom=up.open, color=bull_color) \n",
    "plt.bar(up.index, up.high-up.close, stick_width, bottom=up.close, color=bull_color) \n",
    "plt.bar(up.index, up.low-up.open, stick_width, bottom=up.open, color=bull_color)\n",
    "\n",
    "plt.bar(down.index, down.close-down.open, box_width, bottom=down.open, color=bear_color) \n",
    "plt.bar(down.index, down.high-down.open, stick_width, bottom=down.open, color=bear_color) \n",
    "plt.bar(down.index, down.low-down.close, stick_width, bottom=down.close, color=bear_color) \n",
    "\n",
    "plt.plot(df.wma30, color=wma30_color, linewidth=0.5)\n",
    "plt.axhline(df.fyh[-1], color=fyh_color, linewidth=0.5)\n",
    "\n",
    "plt.xticks(rotation=30, ha='right') \n",
    "  \n",
    "plt.show() "
   ]
  },
  {
   "cell_type": "code",
   "execution_count": null,
   "metadata": {},
   "outputs": [],
   "source": []
  }
 ],
 "metadata": {
  "kernelspec": {
   "display_name": "Python 3",
   "language": "python",
   "name": "python3"
  },
  "language_info": {
   "codemirror_mode": {
    "name": "ipython",
    "version": 3
   },
   "file_extension": ".py",
   "mimetype": "text/x-python",
   "name": "python",
   "nbconvert_exporter": "python",
   "pygments_lexer": "ipython3",
   "version": "3.9.18"
  }
 },
 "nbformat": 4,
 "nbformat_minor": 2
}
