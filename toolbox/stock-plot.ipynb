{
 "cells": [
  {
   "cell_type": "code",
   "execution_count": null,
   "metadata": {},
   "outputs": [],
   "source": [
    "import pandas as pd\n",
    "import numpy as np\n",
    "import matplotlib.pyplot as plt"
   ]
  },
  {
   "cell_type": "code",
   "execution_count": null,
   "metadata": {},
   "outputs": [],
   "source": [
    "timestamps = pd.date_range(start='2022-01-01', end='2023-12-31', freq='W')\n",
    "\n",
    "open_price = np.random.randint(0, 100, size=len(timestamps))\n",
    "up_amount = np.random.randint(0, 5, size=len(timestamps))\n",
    "down_amount = np.random.randint(-5, 0, size=len(timestamps))\n",
    "data = {\n",
    "    \"open\": open_price,\n",
    "    \"high\": open_price + up_amount,\n",
    "    \"low\": open_price + down_amount,\n",
    "    \"close\": open_price + up_amount + down_amount,\n",
    "    \"volume\": np.random.randint(1000, 10000, size=len(timestamps)),\n",
    "    \"wma30\": np.maximum(open - 10, 1),\n",
    "    \"5yh\": [100] * len(timestamps),\n",
    "}\n",
    "\n",
    "df = pd.DataFrame(data, index=timestamps)\n",
    "# display(df)"
   ]
  },
  {
   "cell_type": "code",
   "execution_count": null,
   "metadata": {},
   "outputs": [],
   "source": [
    "bull_color = \"red\"\n",
    "bear_color = \"green\"\n",
    "\n",
    "width = .3\n",
    "width2 = .03\n",
    "\n",
    "up = df[df.close >= df.open]\n",
    "down = df[df.close < df.open] \n",
    "\n",
    "display(up)"
   ]
  },
  {
   "cell_type": "code",
   "execution_count": null,
   "metadata": {},
   "outputs": [],
   "source": [
    "plt.figure()\n",
    "\n",
    "plt.bar(up.index, up.close-up.open, width, bottom=up.open, color=bull_color) \n",
    "plt.bar(up.index, up.high-up.close, width2, bottom=up.close, color=bull_color) \n",
    "plt.bar(up.index, up.low-up.open, width2, bottom=up.open, color=bull_color)\n",
    "\n",
    "plt.bar(down.index, down.close-down.open, width, bottom=down.open, color=bear_color) \n",
    "plt.bar(down.index, down.high-down.open, width2, bottom=down.open, color=bear_color) \n",
    "plt.bar(down.index, down.low-down.close, width2, bottom=down.close, color=bear_color) \n",
    "\n",
    "plt.xticks(rotation=30, ha='right') \n",
    "  \n",
    "plt.show() "
   ]
  },
  {
   "cell_type": "code",
   "execution_count": null,
   "metadata": {},
   "outputs": [],
   "source": []
  }
 ],
 "metadata": {
  "kernelspec": {
   "display_name": "Python 3",
   "language": "python",
   "name": "python3"
  },
  "language_info": {
   "codemirror_mode": {
    "name": "ipython",
    "version": 3
   },
   "file_extension": ".py",
   "mimetype": "text/x-python",
   "name": "python",
   "nbconvert_exporter": "python",
   "pygments_lexer": "ipython3",
   "version": "3.9.18"
  }
 },
 "nbformat": 4,
 "nbformat_minor": 2
}
