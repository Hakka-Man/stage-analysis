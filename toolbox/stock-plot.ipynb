{
 "cells": [
  {
   "cell_type": "code",
   "execution_count": 1,
   "metadata": {},
   "outputs": [
    {
     "name": "stderr",
     "output_type": "stream",
     "text": [
      "/home/alanhou/miniconda3/envs/stage/lib/python3.9/site-packages/torchvision/io/image.py:13: UserWarning: Failed to load image Python extension: '/home/alanhou/miniconda3/envs/stage/lib/python3.9/site-packages/torchvision/image.so: undefined symbol: _ZN3c1017RegisterOperatorsD1Ev'If you don't plan on using image functionality from `torchvision.io`, you can ignore this warning. Otherwise, there might be something wrong with your environment. Did you have `libjpeg` or `libpng` installed before building `torchvision` from source?\n",
      "  warn(\n"
     ]
    }
   ],
   "source": [
    "from plotstock import plotstock\n",
    "import pandas as pd\n",
    "import os\n",
    "from PIL import Image\n",
    "import torchvision.transforms as transforms\n",
    "# from torchvision.transforms.functional import pil_to_tensor\n",
    "from torchvision.transforms.functional import to_pil_image\n",
    "\n",
    "\n",
    "train_str_data_dir = '../train_data/mock.csv'\n",
    "stock_data_dir = '../stock_data/'\n",
    "images_folder = \"../stock_image\"\n",
    "\n",
    "WEEKS_IN_YEAR = 52"
   ]
  },
  {
   "cell_type": "code",
   "execution_count": 2,
   "metadata": {},
   "outputs": [],
   "source": [
    "train_data_dir = pd.read_csv(train_str_data_dir)"
   ]
  },
  {
   "cell_type": "code",
   "execution_count": 3,
   "metadata": {},
   "outputs": [],
   "source": [
    "stock = train_data_dir.iloc[0, 0]\n",
    "start_date_str = train_data_dir.iloc[0, 1]\n",
    "start_date = pd.Timestamp(start_date_str)\n",
    "stage = train_data_dir.iloc[0, 2]"
   ]
  },
  {
   "cell_type": "code",
   "execution_count": 4,
   "metadata": {},
   "outputs": [],
   "source": [
    "pickle_dir = os.path.join(stock_data_dir, f\"{stock}.pkl\")\n",
    "stock_data = pd.read_pickle(pickle_dir)"
   ]
  },
  {
   "cell_type": "code",
   "execution_count": 5,
   "metadata": {},
   "outputs": [],
   "source": [
    "start_date_index = stock_data.index.get_loc(start_date)\n",
    "end_date_index = start_date_index + WEEKS_IN_YEAR * 2\n",
    "desired_data = stock_data.iloc[start_date_index:end_date_index]"
   ]
  },
  {
   "cell_type": "code",
   "execution_count": 6,
   "metadata": {},
   "outputs": [
    {
     "name": "stdout",
     "output_type": "stream",
     "text": [
      "RangeIndex(start=0, stop=104, step=1)\n"
     ]
    },
    {
     "data": {
      "text/plain": [
       "<Figure size 15000x10000 with 0 Axes>"
      ]
     },
     "metadata": {},
     "output_type": "display_data"
    },
    {
     "data": {
      "image/png": "[encoded data removed]",
      "text/plain": [
       "<Figure size 640x480 with 2 Axes>"
      ]
     },
     "metadata": {},
     "output_type": "display_data"
    }
   ],
   "source": [
    "plotstock(desired_data, \"cache\")\n",
    "\n",
    "transform = transforms.Normalize([0.485, 0.456, 0.406], [0.229, 0.224, 0.225])\n",
    "\n",
    "stock_img = Image.open(os.path.join(images_folder, f\"cache.png\"))\n",
    "# stock_volume_img = Image.open(os.path.join(images_folder, f\"cache_volume.png\"))\n",
    "\n",
    "stock_img = stock_img.convert('RGB')  \n",
    "# stock_volume_img = stock_volume_img.convert('RGB')  \n",
    "\n",
    "convert_tensor = transforms.ToTensor()\n",
    "\n",
    "stock_img_tensor = convert_tensor(stock_img)\n",
    "# stock_volume_img_tensor = convert_tensor(stock_volume_img)\n",
    "\n",
    "normalized_stock = transform(stock_img_tensor)\n",
    "# normalized_stock_volume = transform(stock_volume_img_tensor)\n",
    "\n",
    "normalized_stock_img = to_pil_image(normalized_stock)\n",
    "# normalized_stock_volume_img = to_pil_image(normalized_stock_volume)"
   ]
  },
  {
   "cell_type": "code",
   "execution_count": 7,
   "metadata": {},
   "outputs": [],
   "source": [
    "normalized_stock_img.show()"
   ]
  },
  {
   "cell_type": "code",
   "execution_count": 8,
   "metadata": {},
   "outputs": [
    {
     "name": "stderr",
     "output_type": "stream",
     "text": [
      "WARNING: You don't seem to have any mimeinfo.cache files.\n",
      "Try running the update-desktop-database command. If you\n",
      "don't have this command you should install the\n",
      "desktop-file-utils package. This package is available from\n",
      "http://freedesktop.org/wiki/Software/desktop-file-utils/\n",
      "No applications found for mimetype: image/png\n",
      "./usr/bin/xdg-open: 882: x-www-browser: Permission denied\n",
      "/usr/bin/xdg-open: 882: firefox: Permission denied\n",
      "/usr/bin/xdg-open: 882: iceweasel: Permission denied\n",
      "/usr/bin/xdg-open: 882: seamonkey: Permission denied\n",
      "/usr/bin/xdg-open: 882: mozilla: Permission denied\n",
      "/usr/bin/xdg-open: 882: epiphany: Permission denied\n",
      "/usr/bin/xdg-open: 882: konqueror: Permission denied\n",
      "/usr/bin/xdg-open: 882: chromium: Permission denied\n",
      "/usr/bin/xdg-open: 882: chromium-browser: Permission denied\n",
      "/usr/bin/xdg-open: 882: google-chrome: Permission denied\n",
      "/usr/bin/xdg-open: 882: www-browser: Permission denied\n",
      "/usr/bin/xdg-open: 882: links2: Permission denied\n",
      "/usr/bin/xdg-open: 882: elinks: Permission denied\n",
      "/usr/bin/xdg-open: 882: links: Permission denied\n",
      "/usr/bin/xdg-open: 882: lynx: Permission denied\n",
      "/usr/bin/xdg-open: 882: w3m: Permission denied\n",
      "xdg-open: no method available for opening '/tmp/tmpdp94i71l.PNG'\n"
     ]
    }
   ],
   "source": [
    "# normalized_stock_volume_img.show()"
   ]
  },
  {
   "cell_type": "code",
   "execution_count": null,
   "metadata": {},
   "outputs": [],
   "source": []
  }
 ],
 "metadata": {
  "kernelspec": {
   "display_name": "Python 3",
   "language": "python",
   "name": "python3"
  },
  "language_info": {
   "codemirror_mode": {
    "name": "ipython",
    "version": 3
   },
   "file_extension": ".py",
   "mimetype": "text/x-python",
   "name": "python",
   "nbconvert_exporter": "python",
   "pygments_lexer": "ipython3",
   "version": "3.9.7"
  }
 },
 "nbformat": 4,
 "nbformat_minor": 2
}
