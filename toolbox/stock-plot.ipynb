{
 "cells": [
  {
   "cell_type": "code",
   "execution_count": null,
   "metadata": {},
   "outputs": [],
   "source": [
    "from plotstock import plotstock\n",
    "import pandas as pd\n",
    "import os\n",
    "from PIL import Image\n",
    "import random\n",
    "import torchvision.transforms as transforms\n",
    "# from torchvision.transforms.functional import pil_to_tensor\n",
    "from torchvision.transforms.functional import to_pil_image\n",
    "\n",
    "\n",
    "train_str_data_dir = '../train_data/mock.csv'\n",
    "stock_data_dir = '../stock_data/'\n",
    "images_folder = \"../stock_image\"\n",
    "\n",
    "WEEKS_IN_YEAR = 52"
   ]
  },
  {
   "cell_type": "code",
   "execution_count": null,
   "metadata": {},
   "outputs": [],
   "source": [
    "train_data_dir = pd.read_csv(train_str_data_dir)"
   ]
  },
  {
   "cell_type": "code",
   "execution_count": null,
   "metadata": {},
   "outputs": [],
   "source": [
    "def get_images(ind):\n",
    "    stock = train_data_dir.iloc[ind, 0]\n",
    "    start_date_str = train_data_dir.iloc[ind, 1]\n",
    "    start_date = pd.Timestamp(start_date_str)\n",
    "    stage = str(int(float(train_data_dir.iloc[ind, 2])))\n",
    "    pickle_dir = os.path.join(stock_data_dir, f\"{stock}.pkl\")\n",
    "    stock_data = pd.read_pickle(pickle_dir)\n",
    "    start_date_index = stock_data.index.get_loc(start_date)\n",
    "    end_date_index = start_date_index + WEEKS_IN_YEAR * 2\n",
    "    desired_data = stock_data.iloc[start_date_index:end_date_index]\n",
    "    plotstock(desired_data, stage + \"/\" + stock + \"_\" + start_date_str)\n",
    "\n"
   ]
  },
  {
   "cell_type": "code",
   "execution_count": null,
   "metadata": {},
   "outputs": [],
   "source": [
    "len(train_data_dir)\n",
    "for i in range(len(train_data_dir)):\n",
    "    get_images(i)"
   ]
  },
  {
   "cell_type": "code",
   "execution_count": null,
   "metadata": {},
   "outputs": [],
   "source": [
    "stock = train_data_dir.iloc[3000, 0]\n",
    "start_date_str = train_data_dir.iloc[3000, 1]\n",
    "start_date = pd.Timestamp(start_date_str)\n",
    "stage = train_data_dir.iloc[3000, 2]"
   ]
  },
  {
   "cell_type": "code",
   "execution_count": null,
   "metadata": {},
   "outputs": [],
   "source": [
    "pickle_dir = os.path.join(stock_data_dir, f\"{stock}.pkl\")\n",
    "stock_data = pd.read_pickle(pickle_dir)"
   ]
  },
  {
   "cell_type": "code",
   "execution_count": null,
   "metadata": {},
   "outputs": [],
   "source": [
    "start_date_index = stock_data.index.get_loc(start_date)\n",
    "end_date_index = start_date_index + WEEKS_IN_YEAR * 2\n",
    "desired_data = stock_data.iloc[start_date_index:end_date_index]"
   ]
  },
  {
   "cell_type": "code",
   "execution_count": null,
   "metadata": {},
   "outputs": [],
   "source": [
    "plotstock(desired_data, \"cache\")\n",
    "\n",
    "transform = transforms.Normalize([0.485, 0.456, 0.406], [0.229, 0.224, 0.225])\n",
    "\n",
    "stock_img = Image.open(os.path.join(images_folder, f\"cache.png\"))\n",
    "# stock_volume_img = Image.open(os.path.join(images_folder, f\"cache_volume.png\"))\n",
    "\n",
    "stock_img = stock_img.convert('RGB')  \n",
    "# stock_volume_img = stock_volume_img.convert('RGB')  \n",
    "\n",
    "convert_tensor = transforms.ToTensor()\n",
    "\n",
    "stock_img_tensor = convert_tensor(stock_img)\n",
    "# stock_volume_img_tensor = convert_tensor(stock_volume_img)\n",
    "\n",
    "normalized_stock = transform(stock_img_tensor)\n",
    "# normalized_stock_volume = transform(stock_volume_img_tensor)\n",
    "\n",
    "normalized_stock_img = to_pil_image(normalized_stock)\n",
    "# normalized_stock_volume_img = to_pil_image(normalized_stock_volume)"
   ]
  },
  {
   "cell_type": "code",
   "execution_count": null,
   "metadata": {},
   "outputs": [],
   "source": [
    "normalized_stock_img.show()"
   ]
  },
  {
   "cell_type": "code",
   "execution_count": null,
   "metadata": {},
   "outputs": [],
   "source": [
    "# normalized_stock_volume_img.show()"
   ]
  },
  {
   "cell_type": "code",
   "execution_count": null,
   "metadata": {},
   "outputs": [],
   "source": [
    "\n",
    "stock = \"MHK\"\n",
    "start_date_str = \"2010-03-19\"\n",
    "start_date = pd.Timestamp(start_date_str)\n",
    "pickle_dir = os.path.join(stock_data_dir, f\"{stock}.pkl\")\n",
    "stock_data = pd.read_pickle(pickle_dir)\n",
    "start_date_index = stock_data.index.get_loc(start_date)\n",
    "end_date_index = start_date_index + WEEKS_IN_YEAR * 2\n",
    "desired_data = stock_data.iloc[start_date_index:end_date_index]\n",
    "display(desired_data)"
   ]
  },
  {
   "cell_type": "code",
   "execution_count": null,
   "metadata": {},
   "outputs": [],
   "source": []
  }
 ],
 "metadata": {
  "kernelspec": {
   "display_name": "Python 3",
   "language": "python",
   "name": "python3"
  },
  "language_info": {
   "codemirror_mode": {
    "name": "ipython",
    "version": 3
   },
   "file_extension": ".py",
   "mimetype": "text/x-python",
   "name": "python",
   "nbconvert_exporter": "python",
   "pygments_lexer": "ipython3",
   "version": "3.9.18"
  }
 },
 "nbformat": 4,
 "nbformat_minor": 2
}
