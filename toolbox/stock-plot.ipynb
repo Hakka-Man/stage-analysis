{
 "cells": [
  {
   "cell_type": "code",
   "execution_count": null,
   "metadata": {},
   "outputs": [],
   "source": [
    "import pandas as pd\n",
    "import numpy as np\n",
    "import matplotlib.pyplot as plt"
   ]
  },
  {
   "cell_type": "code",
   "execution_count": null,
   "metadata": {},
   "outputs": [],
   "source": [
    "timestamps = pd.date_range(start='2022-01-01', end='2023-12-31', freq='W')\n",
    "\n",
    "open = np.random.randint(0, 100, size=len(timestamps))\n",
    "data = {\n",
    "    \"Open\": open,\n",
    "    \"High\": open + np.random.randint(0, 5, size=len(timestamps)),\n",
    "    \"Low\": open + np.random.randint(-5, 0, size=len(timestamps)),\n",
    "    \"Close\": open,\n",
    "    \"Volume\": np.random.randint(1000, 10000, size=len(timestamps)),\n",
    "    \"WMA\": np.maximum(open - 10, 1),\n",
    "    \"5YH\": [100] * len(timestamps),\n",
    "}\n",
    "\n",
    "df = pd.DataFrame(data, index=timestamps)\n",
    "display(df)"
   ]
  },
  {
   "cell_type": "code",
   "execution_count": null,
   "metadata": {},
   "outputs": [],
   "source": []
  }
 ],
 "metadata": {
  "kernelspec": {
   "display_name": "Python 3",
   "language": "python",
   "name": "python3"
  },
  "language_info": {
   "codemirror_mode": {
    "name": "ipython",
    "version": 3
   },
   "file_extension": ".py",
   "mimetype": "text/x-python",
   "name": "python",
   "nbconvert_exporter": "python",
   "pygments_lexer": "ipython3",
   "version": "3.9.18"
  }
 },
 "nbformat": 4,
 "nbformat_minor": 2
}
