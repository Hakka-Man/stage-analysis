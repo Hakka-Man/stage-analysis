{
 "cells": [
  {
   "cell_type": "code",
   "execution_count": 1,
   "metadata": {},
   "outputs": [
    {
     "name": "stdout",
     "output_type": "stream",
     "text": [
      "385300\n",
      "['BBLG', 'HSPO', 'CNTB', 'PLAO', 'ONCO', 'CLRC', 'MAIA', 'LIBY', 'WLDS', 'HOOD', 'LICN', 'DTC', 'ISRL', 'PECO', 'FEXD', 'JNVR', 'PUCK', 'KARO', 'CVRX', 'SWVL', 'ZJYL', 'HLP', 'GSUN', 'ALTI', 'DWAC', 'MEGL', 'VLN', 'CTM', 'BTTX', 'LZM', 'NFYS', 'NVCT', 'TENK', 'WTMA', 'XFIN', 'NAPA', 'BWMN', 'KVUE', 'AHI', 'PXMD', 'BAOS', 'SEPA', 'CMTG', 'ESAC', 'SHAP', 'DOCS', 'TCBP', 'ARBK', 'GRI', 'BVS', 'LFST', 'CISO', 'STRC', 'DRUG', 'TKLF', 'STBX', 'DDI', 'AESI', 'SKYT', 'NRXS', 'CERO', 'VCSA', 'OSI', 'RANI', 'TRIS', 'BWAQ', 'FTII', 'IVVD', 'ENFN', 'CHK', 'HLTH', 'PSNY', 'ACAH', 'SEMR', 'STSS', 'IONR', 'INNV', 'STHO', 'DATS', 'CITE', 'ALKT', 'ATLX', 'CISS', 'CXAI', 'ARHS', 'SVV', 'ONTF', 'BTMD', 'AREB', 'AKYA', 'ASNS', 'AUUD', 'GFR', 'AWIN', 'TRML', 'CLOE', 'PEGR', 'GAMB', 'CAUD', 'BENF', 'UCAR', 'CDRE', 'YOTA', 'SAGA', 'VAXX', 'DERM', 'ROSS', 'ESAB', 'DOLE', 'SLRN', 'SYM', 'MRDB', 'ACAC', 'WRNT', 'ARYD', 'DIST', 'ECBK', 'SYT', 'XRTX', 'CGTX', 'ROVR', 'CYT', 'RACY', 'GXAI', 'CYN', 'HCTI', 'FGI', 'BYNO', 'PSQH', 'HYW', 'BIRD', 'BNRG', 'DMYY', 'EPOW', 'AVAH', 'XBP', 'NVAC', 'NU', 'AVTE', 'BLUA', 'VEEE', 'BGXX', 'SDRL', 'BRCC', 'IKNA', 'EWCZ', 'HCMA', 'AUST', 'GETR', 'GENK', 'GATE', 'BAER', 'PAY', 'JOAN', 'LCA', 'RCAC', 'SNTI', 'SLND', 'WINV', 'TCBS', 'BLFY', 'GHRS', 'NOVV', 'SOPH', 'ARBB', 'ASTI', 'OB', 'NAMS', 'FWRG', 'HEPS', 'ASCB', 'VRPX', 'CHAA', 'IE', 'BRZE', 'IREN', 'TERN', 'PTLO', 'DTM', 'DRTS', 'DUET', 'AEAE', 'GROV', 'AONC', 'AMPL', 'JTAI', 'TCJH', 'LIPO', 'VRAX', 'IMAQ', 'PGRU', 'SLVM', 'OPAL', 'CEG', 'BZ', 'ANEB', 'MITQ', 'AVDX', 'VSAC', 'MBTC', 'BNZI', 'GXO', 'NRDS', 'OABI', 'COIN', 'EE', 'ALCC', 'OLO', 'MACA', 'BMR', 'BRKH', 'COOK', 'VCXB', 'ONL', 'IZM', 'ALCY', 'GDST', 'TXO', 'DECA', 'CTV', 'FEMY', 'GHIX', 'ADAG', 'MWG', 'PRE', 'YOSH', 'MCAA', 'GLUE', 'REBN', 'DOCN', 'FATH', 'TASK', 'PPYA', 'PRLH', 'RXST', 'ANTX', 'PERF', 'MVLA', 'PGY', 'TLSI', 'JCSE', 'SES', 'CNM', 'DHAC', 'DH', 'IPXX', 'OKYO', 'ALUR', 'AFCG', 'HRT', 'MOND', 'IINN', 'NXU', 'CNDB', 'FLFV', 'IXAQ', 'FNA', 'OCAX', 'RPHM', 'CRCT', 'STKH', 'EXAI', 'RPID', 'SCLX', 'NTRB', 'BRAC', 'OLK', 'IGTA', 'ISPC', 'NPCE', 'ICU', 'ACT', 'SNTG', 'ATMV', 'CBRG', 'PORT', 'BRNS', 'THRD', 'INAB', 'TRNR', 'TDCX', 'ACAB', 'MTEK', 'WEL', 'FOXO', 'TDUP', 'WBX', 'STER', 'WETG', 'HGAS', 'TRUG', 'BROS', 'AGL', 'AIB', 'LLYVK', 'PXDT', 'ICG', 'SWIM', 'SFWL', 'GBBK', 'SOAR', 'CTNT', 'RENE', 'GFS', 'NXGL', 'AIP', 'NEUE', 'MHUA', 'DALN', 'JEWL', 'ZCAR', 'MLNK', 'SEAT', 'PRME', 'SVMH', 'CVII', 'LDTC', 'GIA', 'DAVE', 'USCT', 'GRPH', 'RAYA', 'AUID', 'DISA', 'FAZE', 'ETAO', 'FG', 'PEPL', 'DRMA', 'MOB', 'TWKS', 'IMRX', 'ZLS', 'SWSS', 'PNST', 'KTTA', 'COYA', 'ADRT', 'QDRO', 'ASTL', 'NXL', 'OMH', 'PROK', 'BBUC', 'GPOR', 'ACON', 'PHVS', 'APP', 'UNCY', 'LAES', 'WAVE', 'DPCS', 'SCRM', 'PWSC', 'GEHC', 'JXN', 'OSA', 'MOVE', 'VRAR', 'DAWN', 'CAPT', 'GLLI', 'OCS', 'BOF', 'ALCE', 'ECX', 'GFAI', 'CETU', 'VGAS', 'MCAC', 'CPOP', 'NEXN', 'PEV', 'VHAQ', 'CCSI', 'MGRM', 'ALZN', 'HTCR', 'ENCP', 'NVTS', 'SABS', 'BMBL', 'RGF', 'TMC', 'FLYW', 'CING', 'SWAG', 'SDA', 'IFIN', 'EM', 'WKME', 'COCO', 'DFLI', 'KD', 'ZVSA', 'BBAI', 'BETR', 'IMMX', 'ULCC', 'EEIQ', 'SBXC', 'VLCN', 'INFA', 'IRRX', 'ECDA', 'IPSC', 'LBBB', 'MRT', 'LBPH', 'SLAM', 'AMPX', 'VMEO', 'INTE', 'KSCP', 'YMM', 'OTEC', 'IPX', 'SEDA', 'LATG', 'EMCG', 'ILAG', 'JWEL', 'ZH', 'MGAM', 'JFBR', 'EDBL', 'DPSI', 'ASAI', 'GNLX', 'BMEA', 'SHLT', 'TBLA', 'LOCL', 'BHM', 'MNDY', 'BLAC', 'VALN', 'BLTE', 'SIDU', 'HAYW', 'IVCA', 'IOT', 'AAMC', 'APAC', 'GDHG', 'RDZN', 'BLZE', 'YOU', 'PATH', 'ESLA', 'ASPI', 'DUOL', 'ASST', 'BTM', 'HNVR', 'ENLT', 'IOBT', 'PET', 'ZVIA', 'EXFY', 'VINE', 'HUDA', 'DNUT', 'VMCA', 'HOLO', 'LTH', 'CBL', 'RSKD', 'KIND', 'USGO', 'GDTC', 'HUBC', 'SGHT', 'CADL', 'ZIP', 'SELX', 'PLTN', 'BPTS', 'TRDA', 'CLCO', 'CWAN', 'AQU', 'ACRV', 'HLN', 'MGRX', 'MDAI', 'ASCA', 'FNVT', 'VIGL', 'FHLT', 'RBT', 'LCAA', 'MYNZ', 'CMND', 'OAKU', 'DRCT', 'VCIG', 'VERV', 'ADTH', 'CFFS', 'AKA', 'BJDX', 'UPC', 'MTAL', 'JYD', 'BFRI', 'BZFD', 'SNPO', 'SXTP', 'LANV', 'ESHA', 'RMGC', 'VTYX', 'HOUR', 'LNZA', 'RCFA', 'AURA', 'MAQC', 'AZTR', 'ZURA', 'ALLR', 'CNTA', 'TCOA', 'TSVT', 'FORL', 'GPCR', 'UHG', 'APLM', 'SMWB', 'UPXI', 'PCOR', 'CDAQ', 'HGTY', 'ATMU', 'GANX', 'SHFS', 'PBBK', 'GTLB', 'PBM', 'LUCD', 'ZGN', 'NPWR', 'PPTA', 'LUNR', 'COUR', 'CPNG', 'LZ', 'LIAN', 'CRBG', 'UDMY', 'UROY', 'CMPX', 'OGN', 'MARX', 'STIX', 'XMTR', 'BASE', 'ZAPP', 'NB', 'PYCR', 'FLGC', 'TNON', 'VTEX', 'IPW', 'ACLX', 'EVAX', 'GV', 'CWD', 'MOBX', 'FRLA', 'AERT', 'SATX', 'SANA', 'CLST', 'MTTR', 'CNEY', 'MSAI', 'KITT', 'QOMO', 'BEAT', 'WEST', 'CGNT', 'AEON', 'REFI', 'ODD', 'BIAF', 'PIK', 'GBTG', 'HSHP', 'RGTI', 'TWLV', 'OLPX', 'MODD', 'FIHL', 'JZ', 'FEAM', 'AACI', 'HCWB', 'CNTX', 'VZIO', 'TETE', 'WTO', 'OSCR', 'COCH', 'FRSH', 'LITM', 'FINW', 'PX', 'ALLG', 'AUR', 'MLEC', 'CNDA', 'KCGI', 'TWOA', 'BOLT', 'MMV', 'RXO', 'ISPR', 'CR', 'VERA', 'BCSA', 'RELY', 'TOP', 'PIII', 'EUDA', 'SVII', 'CSAN', 'IXHL', 'FIAC', 'FLNC', 'HCVI', 'NABL', 'FTCI', 'SOVO', 'PLMI', 'AFRI', 'CNGL', 'AMR', 'PPHP', 'SMRT', 'BLEU', 'SPEC', 'ACVA', 'JWSM', 'TNYA', 'LCW', 'BNIX', 'IVCB', 'TGVC', 'LASE', 'TCBX', 'ERAS', 'OCTO', 'BNOX', 'ELTX', 'ACBA', 'ISPO', 'ARIS', 'TFPM', 'RRAC', 'CION', 'TMTC', 'SKWD', 'SLNA', 'TCN', 'CFSB', 'GTAC', 'CHSN', 'NYXH', 'SKYX', 'COOL', 'INTR', 'PWM', 'MBLY', 'EFTR', 'VSCO', 'TIVC', 'BHAC', 'MSGE', 'TVGN', 'TYGO', 'AKLI', 'BACA', 'MYNA', 'ARIZ', 'PTWO', 'FRGE', 'ABOS', 'BTBD', 'ZIMV', 'ZETA', 'PGSS', 'FORA', 'SQSP', 'FIP', 'XPDB', 'SPRC', 'VZLA', 'BRDG', 'CRDO', 'VTS', 'PEPG', 'GAQ', 'DLO', 'DSGN', 'DTI', 'TRON', 'IRAA', 'ATCH', 'ATMC', 'SSBK', 'RNAZ', 'TCBC', 'BHVN', 'KGS', 'RIVN', 'PWUP', 'ABSI', 'MDV', 'DDL', 'HSCS', 'TLIS', 'LUCY', 'SERA', 'BOCN', 'DSAQ', 'QSG', 'NSTS', 'TIL', 'HLVX', 'SZZL', 'XPON', 'TBMC', 'HHGC', 'EDR', 'SOPA', 'VSTE', 'HOVR', 'ATEK', 'AKAN', 'RNXT', 'APXI', 'CACO', 'SNAL', 'MBC', 'DHCA', 'PFTA', 'NEXI', 'RNW', 'SKGR', 'GROY', 'LNKB', 'ONMD', 'NBST', 'GLBE', 'FCNCO', 'GODN', 'RLYB', 'MAMA', 'AIRS', 'EVEX', 'CPTK', 'USCB', 'AAGR', 'TBIO', 'HSAI', 'MLGO', 'HPCO', 'LLAP', 'FIGS', 'CTCX', 'HCP', 'STVN', 'PRZO', 'SGMT', 'BANL', 'ELEV', 'APLD', 'CXM', 'LVTX', 'DSP', 'ZENV', 'SVRE', 'NVNI', 'TORO', 'LAW', 'METCB', 'ROCL', 'ELYM', 'TOST', 'AIXI', 'ONFO', 'ALHC', 'THAR', 'AOMR', 'SG', 'IDAI', 'LVLU', 'CJET', 'JANX', 'DC', 'SOC', 'CMCA', 'GRRR', 'HTZ', 'RFAC', 'PHYT', 'CLDI', 'WAVS', 'LOT', 'RWAY', 'SNSE', 'ONON', 'AIMAU', 'IHS', 'HNRA', 'TUYA', 'HKIT', 'TIXT', 'LGVC', 'RGC', 'GMFI', 'DO', 'ADSE', 'EVGR', 'DCFC', 'YGF', 'CRBU', 'INST', 'CVKD', 'BFAC', 'CPTN', 'FBRT', 'AENT', 'SLAC', 'NUVL', 'IAUX', 'AMPS', 'WDH', 'CURV', 'SHCO', 'KYCH', 'ALSA', 'ATAI', 'OTLY', 'GPAC', 'MCAF', 'WEAV', 'HKD', 'TKNO', 'CINT', 'WALD', 'NRGV', 'NUTX', 'OP', 'CTKB', 'DNA', 'BTDR', 'WLGS', 'SAI', 'ICCM', 'FATBB', 'VTMX', 'AOGO', 'TMCI', 'EZFL', 'OST', 'TYRA', 'COMP', 'SATL', 'XLO', 'HOWL', 'PRCT', 'SLDP', 'RBLX', 'AMBP', 'AUGX', 'EMBC', 'LTRY', 'THCH', 'VBNK', 'FTRE', 'APGE', 'ACHL', 'CFLT', 'THCP', 'AVHI', 'BLND', 'INKT', 'AGTI', 'OZ', 'SMX', 'PRM', 'LYT', 'SNCY', 'MPTI', 'BNRE', 'WRBY', 'MXCT', 'GGR', 'STI', 'SOND', 'HAIA', 'MCW', 'AFAR', 'EWTX', 'LGVN', 'EJH', 'CSLM', 'PHIN', 'MOLN', 'TPG', 'NE', 'STRW', 'BOWL', 'BFRG', 'OMGA', 'MGLD', 'IMPP', 'RELI', 'PRVA', 'ACDC', 'BRSH', 'SRAD', 'GNS', 'DV', 'MLYS', 'PRST', 'OCEA', 'SN', 'BREA', 'CDIO', 'IAS', 'SOUN', 'NXT', 'KNF', 'VOR', 'GIPR', 'TPET', 'SSIC', 'XPER', 'ACXP', 'DOUG', 'APCA', 'NVOS', 'MGIH', 'AMLX', 'NRAC', 'LYEL', 'RENT', 'RMCO', 'S', 'HNST', 'FNCH', 'MRAI', 'TRTL', 'NCNC', 'NRSN', 'LCFY', 'IVCP', 'INTA', 'INTS', 'WNNR', 'WRAC', 'TGL', 'FA', 'RERE', 'VAL', 'MITA', 'RUM', 'ARRW', 'KRNL', 'BRLS', 'PYXS', 'MCAG', 'ENGN', 'SBFM', 'ARQQ', 'OMIC', 'SHPH', 'MSSA', 'LABP', 'SRFM', 'AISP', 'BON', 'LUXH', 'DBGI', 'SMR', 'LSDI', 'XPOF', 'NVX', 'KLTR', 'BLCO', 'CRGY', 'GNTA', 'YS', 'KACL', 'BAM', 'EVE', 'CAVA', 'MGOL', 'EHAB', 'PL', 'CDT', 'TLGY', 'CSLR', 'LQR', 'MNTN', 'BRLT', 'BITE', 'KRT', 'HWH', 'DIBS', 'TSBX', 'RVSN', 'FSBC', 'EMLD', 'SGE', 'BHIL', 'AACT', 'CCTS', 'PMGM', 'PLMJ', 'GCT', 'RXRX', 'RWOD', 'TCRX', 'TGAA', 'LVRO', 'VAQC', 'ELWS', 'FYBR', 'EAC', 'OPTX', 'SDIG', 'RYAN', 'NPAB', 'PTIX', 'MQ', 'IMCR', 'LDI', 'GAMC', 'USEA', 'ESGL', 'AGRI', 'CRGO', 'GLST', 'NYAX', 'IFBD', 'JZXN', 'ALVO', 'FRZA', 'ONYX', 'BCAN', 'ATAT', 'MDXH', 'EVCM']\n"
     ]
    }
   ],
   "source": [
    "import pandas as pd\n",
    "import glob\n",
    "import random\n",
    "\n",
    "from datetime import datetime, timedelta\n",
    "\n",
    "\n",
    "folder_path = '../stock_data'\n",
    "pickle_files = glob.glob(f'{folder_path}/*.pkl')\n",
    "\n",
    "random.shuffle(pickle_files)\n",
    "\n",
    "no_two_year_list = list()\n",
    "\n",
    "\n",
    "columns = ['stock', 'start_date', 'stage']\n",
    "trainData = pd.DataFrame(columns = columns)\n",
    "\n",
    "\n",
    "for file in pickle_files:\n",
    "    stock_dict = {}\n",
    "    ticker = file.split('/')[-1][:-4]\n",
    "    df = pd.read_pickle(file)\n",
    "    if len(df.index) == 0:\n",
    "        no_two_year_list.append(ticker)\n",
    "    elif df.index[-1] - df.index[0] > timedelta(weeks=104):\n",
    "        ind = df.index[0]\n",
    "        while ind + timedelta(weeks=104) < df.index[-1]:\n",
    "            # new_row = {'stock': ticker, 'start_date': ind, 'stage': }\n",
    "            stock_dict[len(stock_dict)] = [ticker, ind, df.loc[ind + timedelta(weeks=103)]['stage']]\n",
    "            # trainData.loc[len(trainData)] = [ticker, ind, df.loc[ind + timedelta(weeks=103)]['stage']]\n",
    "            ind += timedelta(weeks=1)\n",
    "    else:\n",
    "        no_two_year_list.append(ticker)\n",
    "    if len(stock_dict) >  100:\n",
    "        random_numbers = random.sample(range(len(stock_dict)), 100)\n",
    "        for num in random_numbers:\n",
    "            trainData.loc[len(trainData)] = stock_dict[num]\n",
    "\n",
    "print(len(trainData))\n",
    "print(no_two_year_list)"
   ]
  },
  {
   "cell_type": "code",
   "execution_count": 2,
   "metadata": {},
   "outputs": [],
   "source": [
    "trainData.to_csv(\"../train_data/mock.csv\", index = False)"
   ]
  },
  {
   "cell_type": "code",
   "execution_count": null,
   "metadata": {},
   "outputs": [],
   "source": []
  }
 ],
 "metadata": {
  "kernelspec": {
   "display_name": "stage",
   "language": "python",
   "name": "python3"
  },
  "language_info": {
   "codemirror_mode": {
    "name": "ipython",
    "version": 3
   },
   "file_extension": ".py",
   "mimetype": "text/x-python",
   "name": "python",
   "nbconvert_exporter": "python",
   "pygments_lexer": "ipython3",
   "version": "3.9.18"
  }
 },
 "nbformat": 4,
 "nbformat_minor": 2
}
