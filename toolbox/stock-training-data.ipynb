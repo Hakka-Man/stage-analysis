{
 "cells": [
  {
   "cell_type": "code",
   "execution_count": 1,
   "metadata": {},
   "outputs": [
    {
     "name": "stdout",
     "output_type": "stream",
     "text": [
      "13604\n",
      "['PIK', 'WRAC', 'TCBX', 'GAQ', 'CTNT']\n"
     ]
    }
   ],
   "source": [
    "import pandas as pd\n",
    "import glob\n",
    "import random\n",
    "\n",
    "from datetime import datetime, timedelta\n",
    "\n",
    "\n",
    "folder_path = '../stock_data'\n",
    "pickle_files = glob.glob(f'{folder_path}/*.pkl')\n",
    "\n",
    "random.shuffle(pickle_files)\n",
    "\n",
    "no_two_year_list = list()\n",
    "\n",
    "\n",
    "columns = ['stock', 'start_date', 'stage']\n",
    "trainData = pd.DataFrame(columns = columns)\n",
    "\n",
    "\n",
    "for file in pickle_files[:20]:\n",
    "    ticker = file.split('/')[-1][:-4]\n",
    "    df = pd.read_pickle(file)\n",
    "    if len(df.index) == 0:\n",
    "        no_two_year_list.append(ticker)\n",
    "    elif df.index[-1] - df.index[0] > timedelta(weeks=104):\n",
    "        ind = df.index[0]\n",
    "        while ind + timedelta(weeks=104) < df.index[-1]:\n",
    "            # new_row = {'stock': ticker, 'start_date': ind, 'stage': }\n",
    "            trainData.loc[len(trainData)] = [ticker, ind, df.loc[ind + timedelta(weeks=103)]['stage']]\n",
    "            ind += timedelta(weeks=1)\n",
    "    else:\n",
    "        no_two_year_list.append(ticker)\n",
    "\n",
    "print(len(trainData))\n",
    "print(no_two_year_list)"
   ]
  },
  {
   "cell_type": "code",
   "execution_count": 2,
   "metadata": {},
   "outputs": [],
   "source": [
    "trainData.to_csv(\"../train_data/mock.csv\", index = False)"
   ]
  },
  {
   "cell_type": "code",
   "execution_count": null,
   "metadata": {},
   "outputs": [],
   "source": []
  }
 ],
 "metadata": {
  "kernelspec": {
   "display_name": "stage",
   "language": "python",
   "name": "python3"
  },
  "language_info": {
   "codemirror_mode": {
    "name": "ipython",
    "version": 3
   },
   "file_extension": ".py",
   "mimetype": "text/x-python",
   "name": "python",
   "nbconvert_exporter": "python",
   "pygments_lexer": "ipython3",
   "version": "3.9.0"
  }
 },
 "nbformat": 4,
 "nbformat_minor": 2
}
